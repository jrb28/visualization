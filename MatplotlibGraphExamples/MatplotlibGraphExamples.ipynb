{
 "cells": [
  {
   "cell_type": "markdown",
   "metadata": {},
   "source": [
    "# Graphing Data with <font face='courier'>matplotlib</font>\n",
    "We will extract data series to plot from <font face='courier'>pandas DataFrames</font> but, first, let's do a very simple example of a <font face='courier'>matplotlib</font> line chart and scatterplot.  "
   ]
  },
  {
   "cell_type": "markdown",
   "metadata": {},
   "source": [
    "This statement imports the <font face='courier'>matplotlib</font> graphing package we will use and uses a very popular, if not ubiquitous alias, <font face='courier'>plt</font>, for this <font face='courier'>matplotlib</font> package."
   ]
  },
  {
   "cell_type": "code",
   "execution_count": null,
   "metadata": {},
   "outputs": [],
   "source": [
    "import matplotlib.pyplot as plt"
   ]
  },
  {
   "cell_type": "markdown",
   "metadata": {},
   "source": [
    "## Simple Examples First: Line and Scatterplot"
   ]
  },
  {
   "cell_type": "markdown",
   "metadata": {},
   "source": [
    "The contents of <font face='courier'>matplotlib_eg_line.py</font> are contained in the cell below.  The <font face='courier'>plt.show()</font> command is required if you are working in Spyder, but it is not absolutely required in Jupyter, although it does mute a needless line of text that is output otherwise. "
   ]
  },
  {
   "cell_type": "code",
   "execution_count": null,
   "metadata": {},
   "outputs": [],
   "source": [
    "xs = [0,82.0442626658045,164.140532825633,249.101916493353,332.182520454561,416.254670963008,495.330844802651,575.152803567278,653.205144040749,738.002602107511,818.027625347191,898.118246791891,980.079475188722,1061.14169245002,1139.27372549306,1222.46124841828,1300.35875796241,1375.56916894815,1450.58381247379,1528.61926864683,1605.58397275636,1690.73526419816,1765.8607155748,1844.76374052086,1927.68455634244,2007.86892722346,2086.83606915306,2166.71913598734,2251.80135023691,2335.70816516882,2420.79263834332,2499.86354911873,2577.05890165442,2654.19208140119,2730.09283946298,2809.07577275313,2894.08624312766,2969.05670691318,3049.93958564477,3129.75861740531,3206.68277248806,3283.60346903165,3364.58552562287,3449.40362446521,3525.4406380069,3608.13685182861,3690.05929028829,3773.14656467608,3850.22786804579,3930.30737684189,4015.46434790825,4093.50879464788,4172.64841837878,4252.66450124259,4335.57956650011,4420.52164467734,4495.52991250898,4575.39742270308,4650.49642074232,4730.52574677055,4805.68851119975,4880.60019974235,4960.70865715944,5043.67168991259,5118.73724644963,5203.54753389807,5283.38430140739,5359.51383129058,5438.3504224767,5519.19106748314,5597.38879699402]\n",
    "ys = [69,70.5331166725557,71.5580608629997,71.7925736363559,71.3468902075964,70.8280365103217,70.6414982437025,70.4451053764375,70.3795952412711,69.7645648576213,69.5426154537094,69.3004779067882,68.9026747371149,68.599154906399,68.519069857217,68.3772433121902,69.1486631584102,68.7548264957532,68.3609585242701,68.5575021969504,68.5786288310157,70.1801398605569,69.7914710297875,70.1491959166127,71.3308639026079,71.9361568322099,71.7841530239482,71.5632100706621,70.9532872882161,70.4120650812618,69.7956890967353,69.6193830861858,69.6154149236862,69.6130427165012,69.7102463368457,69.5264209638887,68.9050613087613,69.1051712486311,68.8193037564598,68.6066819000086,68.6092749335593,68.6204785117934,68.3360360051156,68.5812312774717,68.3713770000006,69.5440095449469,70.5260768620176,72.0285425812187,72.0349254824144,71.8158332177273,71.1892654017154,71.1169346409977,70.8948191898231,70.6895661675202,70.2298913978404,69.6255849641529,69.7340391269025,69.5070018796742,69.6617353391113,69.4627544694931,69.630774569752,69.8026157834872,69.5269217792645,69.0549816241028,69.1984712324886,68.3562401007611,68.1422906748129,68.2062726166005,68.0498033914326,68.6018257745021,68.7606159741864]\n",
    "\n",
    "plt.plot(xs,ys)\n",
    "plt.show()"
   ]
  },
  {
   "cell_type": "markdown",
   "metadata": {},
   "source": [
    "The contents of <font face='courier'>matplotlib_eg_scatter.py</font> are contained in the cell below."
   ]
  },
  {
   "cell_type": "code",
   "execution_count": null,
   "metadata": {},
   "outputs": [],
   "source": [
    "import matplotlib.pyplot as plt\n",
    "\n",
    "xs = [0,82.0442626658045,164.140532825633,249.101916493353,332.182520454561,416.254670963008,495.330844802651, \\\n",
    "      575.152803567278,653.205144040749,738.002602107511,818.027625347191,898.118246791891,980.079475188722, \\\n",
    "      1061.14169245002,1139.27372549306,1222.46124841828,1300.35875796241,1375.56916894815,1450.58381247379, \\\n",
    "      1528.61926864683,1605.58397275636,1690.73526419816,1765.8607155748,1844.76374052086,1927.68455634244, \\\n",
    "      2007.86892722346,2086.83606915306,2166.71913598734,2251.80135023691,2335.70816516882,2420.79263834332, \\\n",
    "      2499.86354911873,2577.05890165442,2654.19208140119,2730.09283946298,2809.07577275313,2894.08624312766, \\\n",
    "      2969.05670691318,3049.93958564477,3129.75861740531,3206.68277248806,3283.60346903165,3364.58552562287, \\\n",
    "      3449.40362446521,3525.4406380069,3608.13685182861,3690.05929028829,3773.14656467608,3850.22786804579, \\\n",
    "      3930.30737684189,4015.46434790825,4093.50879464788,4172.64841837878,4252.66450124259,4335.57956650011, \\\n",
    "      4420.52164467734,4495.52991250898,4575.39742270308,4650.49642074232,4730.52574677055,4805.68851119975, \\\n",
    "      4880.60019974235,4960.70865715944,5043.67168991259,5118.73724644963,5203.54753389807,5283.38430140739, \\\n",
    "      5359.51383129058,5438.3504224767,5519.19106748314,5597.38879699402]\n",
    "ys = [69,70.5331166725557,71.5580608629997,71.7925736363559,71.3468902075964,70.8280365103217,70.6414982437025, \\\n",
    "      70.4451053764375,70.3795952412711,69.7645648576213,69.5426154537094,69.3004779067882,68.9026747371149,68.599154906399, \\\n",
    "      68.519069857217,68.3772433121902,69.1486631584102,68.7548264957532,68.3609585242701,68.5575021969504,68.5786288310157, \\\n",
    "      70.1801398605569,69.7914710297875,70.1491959166127,71.3308639026079,71.9361568322099,71.7841530239482,71.5632100706621, \\\n",
    "      70.9532872882161,70.4120650812618,69.7956890967353,69.6193830861858,69.6154149236862,69.6130427165012,69.7102463368457, \\\n",
    "      69.5264209638887,68.9050613087613,69.1051712486311,68.8193037564598,68.6066819000086,68.6092749335593,68.6204785117934, \\\n",
    "      68.3360360051156,68.5812312774717,68.3713770000006,69.5440095449469,70.5260768620176,72.0285425812187,72.0349254824144, \\\n",
    "      71.8158332177273,71.1892654017154,71.1169346409977,70.8948191898231,70.6895661675202,70.2298913978404,69.6255849641529, \\\n",
    "      69.7340391269025,69.5070018796742,69.6617353391113,69.4627544694931,69.630774569752,69.8026157834872,69.5269217792645, \\\n",
    "      69.0549816241028,69.1984712324886,68.3562401007611,68.1422906748129,68.2062726166005,68.0498033914326,68.6018257745021, \\\n",
    "      68.7606159741864]\n",
    "\n",
    "plt.scatter(xs,ys)\n",
    "plt.show()"
   ]
  },
  {
   "cell_type": "markdown",
   "metadata": {},
   "source": [
    "The data for the previous graphs was typed manually, which is rarely done.  We'll need to input data automatically from files, databases, and other sources.  The <font face='courier'>pandas</font> package provides a great resource for reading data files but, first, we will input data from text files with Python."
   ]
  },
  {
   "cell_type": "markdown",
   "metadata": {},
   "source": [
    "# Inputting Data from Text Files\n",
    "\n",
    "The file <font face='courier'>xys.txt</font> contains the same information as is hard-coded above for the two lists xs and ys.  Let's read it and plot it.  We can use some of the same code."
   ]
  },
  {
   "cell_type": "code",
   "execution_count": null,
   "metadata": {},
   "outputs": [],
   "source": [
    "import matplotlib.pyplot as plt\n",
    "\n",
    "\"\"\" Create empty lists for xs and ys to be populated later \"\"\"\n",
    "xs = []\n",
    "ys = []\n",
    "\n",
    "\"\"\" Prepare to read in the data \"\"\"\n",
    "f = open('xys.txt','r')\n",
    "\n",
    "\"\"\" Read in the data \"\"\"\n",
    "for line in f.readlines():\n",
    "    #line = line.strip()\n",
    "    #line = line.split(',')\n",
    "    #xs.append(float(line[0]))\n",
    "    #ys.append(float(line[1]))\n",
    "    print(line)\n",
    "\n",
    "#print(xs)\n",
    "#print(ys)\n",
    "\n",
    "\"\"\" Plot the data \"\"\"\n",
    "plt.scatter(xs,ys)\n",
    "plt.show()"
   ]
  },
  {
   "cell_type": "markdown",
   "metadata": {},
   "source": [
    "# Inputting and Handling Data with the <font face='courier'>pandas</font> package\n",
    "We'll use <font face='courier'>pandas</font> now to input the data and so we'll import that package."
   ]
  },
  {
   "cell_type": "code",
   "execution_count": null,
   "metadata": {},
   "outputs": [],
   "source": [
    "import pandas as pd"
   ]
  },
  {
   "cell_type": "markdown",
   "metadata": {},
   "source": [
    "We will put the data within a <font face='courier'>pandas DataFrame</font> data type.  Variable names often start with <font face='courier'>df</font> to indicate the <font face='courier'>pandas DataFrame</font> type."
   ]
  },
  {
   "cell_type": "markdown",
   "metadata": {},
   "source": [
    "The pandas <font face='courier'>.read_csv()</font> method is very useful.  Note that the data files must have column headings in the first row.  You'll, possibly, need to adjust the path to the location of your data file if it is not in the same folder as your default Jupyter folder.\n",
    "\n",
    "The first data set below (stored in the <font face='courier'>df_oz</font> DataFrame) is from William S. Cleveland and it is included in a typical R installation, which is my source.  These data describe temperature, wind speed, ozone, and radiation levels over time in New York City.  The second data set, which is from the US Census website, is time series data for public (governmental) construction spending and private construction spending.  The last data set, which is stored in the <font face='courier'>df_test DataFrame</font>, gives high school standard of learning (SOL) scores for six course sections of a social studies course. \n",
    "\n",
    "The double backslash, <code>\\\\\\\\</code>, is used in the file paths below to avoid issues with escape characters.  Alternately, a forward slash could have been used, <font face='courier'>/</font>, as shown below."
   ]
  },
  {
   "cell_type": "code",
   "execution_count": null,
   "metadata": {},
   "outputs": [],
   "source": [
    "df_oz = pd.read_csv('ozone.csv')"
   ]
  },
  {
   "cell_type": "markdown",
   "metadata": {},
   "source": [
    "Make sure the data is read successfully.  The <font face='courier'>.head()</font> property gives the first five rows of a <font face='courier'>DataFrame</font> by default, although the number of rows can be controlled."
   ]
  },
  {
   "cell_type": "code",
   "execution_count": null,
   "metadata": {},
   "outputs": [],
   "source": [
    "df_oz.head()"
   ]
  },
  {
   "cell_type": "code",
   "execution_count": null,
   "metadata": {},
   "outputs": [],
   "source": [
    "df_oz.describe()"
   ]
  },
  {
   "cell_type": "code",
   "execution_count": null,
   "metadata": {},
   "outputs": [],
   "source": [
    "df_oz.shape"
   ]
  },
  {
   "cell_type": "code",
   "execution_count": null,
   "metadata": {},
   "outputs": [],
   "source": [
    "\"\"\" Plot the data \"\"\"\n",
    "plt.scatter(df_oz['temperature'],df_oz['ozone'])\n",
    "plt.show()"
   ]
  },
  {
   "cell_type": "markdown",
   "metadata": {},
   "source": [
    "# <font face='courier'>matplotlib</font> and Object Orientation\n",
    "\n",
    "Object Orientation is an idea that applies to much more than <font face='courier'>matplotlib</font> code.  The word \"object\" implies that the entities we refer to with our code have a physical presence that we can readily observe.  Another characteristic of objects is that they can have many levels of subcomponents.\n",
    "\n",
    "The top-level object is the <font face='courier'>figure</font>, which contains many sub-components, including a figure title, which is formally called the <font face='courier'>suptitle</font>, and the <font face='courier'>axes</font>, which contain the visual graph elements. You can say the the <font face='courier'>suptitle</font> and <font face='courier'>axes</font> objects are child objects of the <font face='courier'>figure</font> object.\n",
    "\n",
    "![Figure Object](gomFig1.jpg)\n",
    "\n",
    "![Figure Hierarchy](gomFig2.jpg)"
   ]
  },
  {
   "cell_type": "markdown",
   "metadata": {},
   "source": [
    "Next we can drill down into the axes object and observe its child objects, which include the legend, the y-axis, the x-axis, vertical and horizontal lines, and grid lines.\n",
    "\n",
    "![Axes Object](gomAxes1.jpg)\n",
    "\n",
    "![Axes Hierarchy](gomAxes2.jpg)"
   ]
  },
  {
   "cell_type": "markdown",
   "metadata": {},
   "source": [
    "A hierarchical representation of all the levels we have shown is below.\n",
    "\n",
    "![X-axis Object](gomHierarchy.jpg)\n",
    "\n",
    "We will demonstrate how to set these graph attributes in the examples below."
   ]
  },
  {
   "cell_type": "markdown",
   "metadata": {},
   "source": [
    "# Using <font face='courier'>pandas</font> and the <font face='courier'>matplotlib</font> Object Model\n",
    "\n",
    "We will start creating graphs now with <font face='courier'>matplotlib</font> in a manner that (i) makes its object oriented structure apparent, and (ii) gives us more control over the details of the graphs.\n",
    "\n",
    "Let's investigate the relationship of ozone level to wind speed with a scatter plot.\n",
    "\n",
    "## Scatterplots\n",
    "\n",
    "What relationship do you see?"
   ]
  },
  {
   "cell_type": "code",
   "execution_count": null,
   "metadata": {},
   "outputs": [],
   "source": [
    "\"\"\" Format of the scatterplot method is as follows: ax.scatter(x-series, y-series) \"\"\"\n",
    "fig, ax = plt.subplots()\n",
    "\"\"\" \n",
    "ax.scatter() statement creates scatterplot\n",
    "The 'alpha' parameter controls dot transparency: 1 = solid, <1 = various transparency levels, 0 = no mark\n",
    "The c parameter designates color of the dots: 'b' stands for blue  \n",
    "\"\"\"\n",
    "ax.scatter(df_oz['wind'], df_oz['ozone'], alpha=0.5, c = 'b')  \n",
    "fig.suptitle('Ozone vs. Wind Speed')   # Graph title\n",
    "ax.xaxis.set_label_text('Wind Speed')  # x-axis caption\n",
    "ax.yaxis.set_label_text('Ozone')       # y-axis caption\n",
    "fig.set_size_inches(7,5)\n",
    "plt.show()"
   ]
  },
  {
   "cell_type": "markdown",
   "metadata": {},
   "source": [
    "... with trend line displayed."
   ]
  },
  {
   "cell_type": "code",
   "execution_count": null,
   "metadata": {},
   "outputs": [],
   "source": [
    "import numpy as np\n",
    "\n",
    "\"\"\" Format of the scatterplot method is as follows: ax.scatter(x-series, y-series) \"\"\"\n",
    "fig, ax = plt.subplots()\n",
    "\"\"\" \n",
    "ax.scatter() statement creates scatterplot\n",
    "The 'alpha' parameter controls dot transparency: 1 = solid, <1 = various transparency levels, 0 = no mark\n",
    "The c parameter designates color of the dots: 'b' stands for blue  \n",
    "\"\"\"\n",
    "ax.scatter(df_oz['wind'], df_oz['ozone'], alpha=0.5, c = 'b')\n",
    "trend = np.polyfit(df_oz['wind'], df_oz['ozone'], 1)\n",
    "y_hat = np.poly1d(trend)(df_oz['wind'])\n",
    "ax.plot(df_oz['wind'], y_hat, c='k')\n",
    "fig.suptitle('Ozone vs. Wind Speed')   # Graph title\n",
    "ax.xaxis.set_label_text('Wind Speed')  # x-axis caption\n",
    "ax.yaxis.set_label_text('Ozone')       # y-axis caption\n",
    "fig.set_size_inches(7,5)\n",
    "plt.show()\n",
    "\n",
    "\n",
    "print(f'Coefficients for equation of a line: {trend}')\n",
    "print(f'Trend line equation: {np.poly1d(trend)}')"
   ]
  },
  {
   "cell_type": "markdown",
   "metadata": {},
   "source": [
    "Here's ozone level versus solar radiation.  What relationship do you see?"
   ]
  },
  {
   "cell_type": "code",
   "execution_count": null,
   "metadata": {},
   "outputs": [],
   "source": [
    "\"\"\" Format of the scatterplot method is as follows: ax.scatter(x-series, y-series) \"\"\"\n",
    "fig, ax = plt.subplots()\n",
    "\"\"\" \n",
    "ax.scatter() statement creates scatterplot\n",
    "The 'alpha' parameter controls dot transparency: 1 = solid, <1 = various transparency levels, 0 = no mark\n",
    "The c parameter designates color of the dots: 'b' stands for blue  \n",
    "\"\"\"\n",
    "ax.scatter(df_oz['radiation'], df_oz['ozone'], alpha=0.5, c = 'b', )    # the 'alpha' parameter controls dot opacity\n",
    "fig.suptitle('Ozone vs. Radiation')\n",
    "ax.xaxis.set_label_text('Radiation (langleys)')\n",
    "ax.yaxis.set_label_text('Ozone (ppb)')\n",
    "ax.set_xlim(0,400)                                                    # Set min and max for y axis\n",
    "ax.set_ylim(0,200) \n",
    "ax.spines['right'].set_visible(False)\n",
    "ax.spines['top'].set_visible(False)\n",
    "fig.set_size_inches(7,5)\n",
    "plt.show()"
   ]
  },
  {
   "cell_type": "markdown",
   "metadata": {},
   "source": [
    "... with trend line"
   ]
  },
  {
   "cell_type": "code",
   "execution_count": null,
   "metadata": {},
   "outputs": [],
   "source": [
    "\"\"\" Format of the scatterplot method is as follows: ax.scatter(x-series, y-series) \"\"\"\n",
    "fig, ax = plt.subplots()\n",
    "\"\"\" \n",
    "ax.scatter() statement creates scatterplot\n",
    "The 'alpha' parameter controls dot transparency: 1 = solid, <1 = various transparency levels, 0 = no mark\n",
    "The c parameter designates color of the dots: 'b' stands for blue  \n",
    "\"\"\"\n",
    "ax.scatter(df_oz['radiation'], df_oz['ozone'], alpha=0.5, c = 'b', )    # the 'alpha' parameter controls dot opacity\n",
    "\n",
    "''' Create trend line display '''\n",
    "trend = np.polyfit(df_oz['radiation'], df_oz['ozone'], 1)\n",
    "#print(f'Slope: {trend}')\n",
    "y_hat = np.poly1d(trend)(df_oz['radiation'])\n",
    "#print(f'Trend line equation: {np.poly1d(trend)}')\n",
    "ax.plot(df_oz['radiation'], y_hat, c='k')\n",
    "\n",
    "fig.suptitle('Ozone vs. Radiation')\n",
    "ax.xaxis.set_label_text('Radiation (langleys)')\n",
    "ax.yaxis.set_label_text('Ozone (ppb)')\n",
    "ax.set_xlim(0,400)                                                    # Set min and max for y axis\n",
    "ax.set_ylim(0,200) \n",
    "ax.spines['right'].set_visible(False)\n",
    "ax.spines['top'].set_visible(False)\n",
    "fig.set_size_inches(7,5)\n",
    "plt.show()"
   ]
  },
  {
   "cell_type": "markdown",
   "metadata": {},
   "source": [
    "Here is a scatter plot with more attributes set.  Some of these features are not useful to make the scatterplot a better visualization but shown for demonstration: they are useful in other contexts."
   ]
  },
  {
   "cell_type": "code",
   "execution_count": null,
   "metadata": {},
   "outputs": [],
   "source": [
    "\"\"\" Format of the scatterplot method is as follows: ax.scatter(x-series, y-series) \"\"\"\n",
    "fig, ax = plt.subplots()\n",
    "\"\"\" \n",
    "ax.scatter() statement creates scatterplot\n",
    "The 'alpha' parameter controls dot transparency: 1 = solid, <1 = various transparency levels, 0 = no mark\n",
    "The c parameter designates color of the dots: 'b' stands for blue  \n",
    "The s parameter sets the size of the points\n",
    "The marker parameter sets the style of the point. (https://matplotlib.org/stable/api/markers_api.html#module-matplotlib.markers)\n",
    "\"\"\"\n",
    "ax.scatter(df_oz['radiation'], df_oz['ozone'], alpha=0.5, c = 'b', s = 20, marker = 'x' )    \n",
    "fig.suptitle('Ozone vs. Radiation', fontsize = 18)\n",
    "ax.xaxis.set_label_text('Radiation (langleys)', fontsize = 16)\n",
    "ax.yaxis.set_label_text('Ozone (ppb)', fontsize = 16)\n",
    "\n",
    "''' Turn off right and top spines '''\n",
    "ax.spines['right'].set_visible(False)\n",
    "ax.spines['top'].set_visible(False)\n",
    "\n",
    "''' Set tickmarks on x-axis: y-axis is similar '''\n",
    "''' Set the axes limits as part of this operation with a buffer on each side '''\n",
    "\n",
    "''' Set min and max for y axis '''\n",
    "x_max = df_oz['radiation'].max()\n",
    "x_min = df_oz['radiation'].min()\n",
    "margin = (x_max - x_min) * 0.1\n",
    "round2 = 50\n",
    "if (x_max + margin) % round2 !=0:\n",
    "    x_max = ((x_max + margin) // round2) * round2 + round2\n",
    "if (x_min - margin) <= 0.0:\n",
    "    x_min = 0.0\n",
    "elif (x_min - margin) % round2 != 0:\n",
    "    x_min = ((x_min - margin) // round2) * round2 - round2\n",
    "x_min = max(0.0, x_min)\n",
    "ax.set_xlim(x_min,x_max)                                                   \n",
    "ax.set_ylim(0,200) \n",
    "\n",
    "''' Tickmarks and labels '''\n",
    "ax.set_xticks(range(0, 401, 100))\n",
    "''' Line below is unecessary in this case '''\n",
    "#ax.set_xticklabels(['0', '100', '200', '300', '400'])\n",
    "\n",
    "\n",
    "''' Plot a vertical line and a horizontal line '''\n",
    "ax.vlines(df_oz['radiation'].median(), ax.get_ylim()[0], ax.get_ylim()[1], color='k', linewidths = 1, linestyle = 'dashed')\n",
    "ax.hlines(df_oz['ozone'].median(), ax.get_xlim()[0], ax.get_xlim()[1], color='k', linewidths = 1, linestyle = 'dashed')\n",
    "\n",
    "''' Plot text on graph '''\n",
    "ax.text(75, 125,'Relative few \\npoints here', fontsize = 16, color = 'k')\n",
    "ax.text(300, 75,'Quadrant 1', fontsize = 16, color = 'gray')\n",
    "ax.text(300, 18,'Quadrant 2', fontsize = 16, color = 'gray')\n",
    "ax.text(50, 18,'Quadrant 3', fontsize = 16, color = 'gray')\n",
    "ax.text(50, 75,'Quadrant 4', fontsize = 16, color = 'gray')\n",
    "\n",
    "''' change image size '''\n",
    "fig.set_size_inches(7,5)\n",
    "plt.show()"
   ]
  },
  {
   "cell_type": "markdown",
   "metadata": {},
   "source": [
    "## Line Graphs\n",
    "\n",
    "You can use all the attributes we used above with scatterplots, but some others make sense to use with line graphs, inlcuding <font face='courier'>avspan()</font> and a <font face='courier'>legend</font> as demonstrated here."
   ]
  },
  {
   "cell_type": "code",
   "execution_count": null,
   "metadata": {},
   "outputs": [],
   "source": [
    "df1 = pd.read_csv('TSDataP1.csv')\n",
    "df1.head()"
   ]
  },
  {
   "cell_type": "code",
   "execution_count": null,
   "metadata": {},
   "outputs": [],
   "source": [
    "df2 = pd.read_csv('TSDataP2.csv')\n",
    "df2.head()"
   ]
  },
  {
   "cell_type": "code",
   "execution_count": null,
   "metadata": {},
   "outputs": [],
   "source": [
    "fig, ax = plt.subplots()\n",
    "ax.plot(df1.index,df1.Product1Demand, color = 'green', label = 'Product 1')\n",
    "ax.plot(df2.index,df2.Product2Demand, color = 'blue', label = 'Product 2')\n",
    "ax.set_xlim(0,18)                                       # this leaves some room on the right for the text labels\n",
    "ax.axvspan(4,7,color = 'grey', alpha = 0.2)\n",
    "fig.set_size_inches(12,8)\n",
    "''' loc controls location of legend '''\n",
    "''' https://matplotlib.org/stable/api/_as_gen/matplotlib.pyplot.legend.html '''\n",
    "ax.legend(loc = 4)\n",
    "plt.show()"
   ]
  },
  {
   "cell_type": "code",
   "execution_count": null,
   "metadata": {},
   "outputs": [],
   "source": [
    "fig, ax = plt.subplots()\n",
    "ax.plot(df1.index,df1.Product1Demand, color = 'green')\n",
    "ax.plot(df2.index,df2.Product2Demand, color = 'blue')\n",
    "ax.set_xlim(0,18)                                       # this leaves some room on the right for the text labels\n",
    "ax.axvspan(4,7,color = 'grey', alpha = 0.2)\n",
    "fig.set_size_inches(12,8)\n",
    "ax.text(0.85,0.75,'Product 1', fontsize = 16, color = 'green', transform=ax.transAxes)\n",
    "ax.text(0.85,0.87,'Product 2', fontsize = 16, color = 'blue', transform=ax.transAxes)\n",
    "plt.show()"
   ]
  },
  {
   "cell_type": "markdown",
   "metadata": {},
   "source": [
    "# Distributional Data: Histograms and Bar Charts\n",
    "Let's look at some distributional data from a database that contains student scores for two tests, one taken at the beginning of the year and one at the end of the year.  Each student's scores are recorded along with their isntructor, school number, and course section number.  Here are the column names:"
   ]
  },
  {
   "cell_type": "code",
   "execution_count": null,
   "metadata": {},
   "outputs": [],
   "source": [
    "df_test = pd.read_csv('test.csv')"
   ]
  },
  {
   "cell_type": "code",
   "execution_count": null,
   "metadata": {},
   "outputs": [],
   "source": [
    "df_test.head()"
   ]
  },
  {
   "cell_type": "code",
   "execution_count": null,
   "metadata": {},
   "outputs": [],
   "source": [
    "df_test.columns.values"
   ]
  },
  {
   "cell_type": "markdown",
   "metadata": {},
   "source": [
    "Before we proceed, let's clean things up a bit by using the <font face='courier'>StudentIdentifier</font> data as the index.  You can have multiple columns as the index, but it is unnecessary in this case.  We will keep the <font face='courier'>StudentIdentifier</font>."
   ]
  },
  {
   "cell_type": "code",
   "execution_count": null,
   "metadata": {},
   "outputs": [],
   "source": [
    "df_test1 = df_test.set_index('StudentIdentifier')"
   ]
  },
  {
   "cell_type": "code",
   "execution_count": null,
   "metadata": {},
   "outputs": [],
   "source": [
    "df_test1.head()"
   ]
  },
  {
   "cell_type": "markdown",
   "metadata": {},
   "source": [
    "The <font face='courier'>Series.unique()</font> method provides easy access to a list of the distinct entries in each column, for example, to find what instructors are represented in the database."
   ]
  },
  {
   "cell_type": "code",
   "execution_count": null,
   "metadata": {},
   "outputs": [],
   "source": [
    "df_test1['InstructorName'].unique()"
   ]
  },
  {
   "cell_type": "markdown",
   "metadata": {},
   "source": [
    "Let's filter the rows, choosing only those rows where Smith is the instructor.  We do that with <font face='courier'>.loc[]</font> and putting a Boolean filter within the square brackets."
   ]
  },
  {
   "cell_type": "code",
   "execution_count": null,
   "metadata": {},
   "outputs": [],
   "source": [
    "df_test1['InstructorName'] == 'Smith'"
   ]
  },
  {
   "cell_type": "code",
   "execution_count": null,
   "metadata": {},
   "outputs": [],
   "source": [
    "df_test1.loc[df_test1['InstructorName'] == 'Smith']"
   ]
  },
  {
   "cell_type": "markdown",
   "metadata": {},
   "source": [
    "Let's plot a frequency histogram of this data for the year end test scores."
   ]
  },
  {
   "cell_type": "code",
   "execution_count": null,
   "metadata": {
    "scrolled": true
   },
   "outputs": [],
   "source": [
    "df_test1.loc[df_test1['InstructorName'] == 'Smith']['EndYearTestScore']"
   ]
  },
  {
   "cell_type": "markdown",
   "metadata": {},
   "source": [
    "Here's a frequency histogram for Instructor Smith's students at the end of the school year using the <font face='courier'>ax.hist()</font> method, which converts the data into a frequency histogram."
   ]
  },
  {
   "cell_type": "code",
   "execution_count": null,
   "metadata": {},
   "outputs": [],
   "source": [
    "fig, ax = plt.subplots()\n",
    "ax.hist(x = df_test1.loc[df_test1['InstructorName'] == 'Smith']['EndYearTestScore'], bins = 20, facecolor='g', alpha=0.75)\n",
    "\n",
    "fig.suptitle('End of Year test Score Frequency Histogram')\n",
    "fig.set_size_inches(7,5)\n",
    "\n",
    "ax.xaxis.set_label_text('End Year Test Score')\n",
    "ax.xaxis.set_tick_params(which = 'both', top = False, bottom = True, labelbottom = True)  # Turn top x axis tick marks off \n",
    "\n",
    "ax.yaxis.set_label_text('Frequency of Scores')\n",
    "ax.yaxis.set_tick_params(which = 'both', right = False, left = True, labelleft = True)   # Turn right y axis tick marks off\n",
    "\n",
    "ax.set_xlim(64, 85)\n",
    "ax.set_ylim(0, 8)\n",
    "ax.spines['right'].set_visible(False)\n",
    "ax.spines['top'].set_visible(False)\n",
    "ax.grid(True)"
   ]
  },
  {
   "cell_type": "markdown",
   "metadata": {},
   "source": [
    "A bar chart can be used to create a histogram also, but using this chart type requires that the data be processed into frequency histogram format before plotting.  It does have the significant advantage, in the author's opinion, that it is easier to aesthetically position the labels on the x-axis relative to the bars."
   ]
  },
  {
   "cell_type": "code",
   "execution_count": null,
   "metadata": {},
   "outputs": [],
   "source": [
    "\"\"\" Create frequency histogram data from DataFrame \"\"\"\n",
    "scores = df_test1.loc[df_test1['InstructorName'] == 'Smith']['EndYearTestScore']\n",
    "\n",
    "''' Compute minimum and maximum values of he scores for the plotted data and x-axis tickmarks'''\n",
    "maxx = max(scores)\n",
    "minx = min(scores)\n",
    "\n",
    "scores = dict(scores.value_counts())\n",
    "scores = {k:scores.get(k,0) for k in range(minx, maxx+1)} # inserts data with zero frequency for missing scores \n",
    "\n",
    "''' Compute data to be plotted '''\n",
    "x = [i for i in range(minx,maxx+1)]\n",
    "freq = [scores[i] for i in range(minx,maxx+1)]\n",
    "\n",
    "\"\"\" Plot frequency histogram data \"\"\"\n",
    "fig, ax = plt.subplots()\n",
    "ax.bar(x=x,height=freq, color='g', alpha=0.75)\n",
    "\n",
    "ax.set_xlim(minx-1, maxx+1) # -1 and +1 creates some buffer whitespace at sides of graphs\n",
    "ax.set_ylim(0, 8)\n",
    "\n",
    "''' Revise tickmarks and labels '''\n",
    "ax.set_xticks(range(minx, maxx+1,2))\n",
    "\n",
    "fig.suptitle('End of Year test Score Frequency Histogram')\n",
    "fig.set_size_inches(7,5)\n",
    "\n",
    "ax.xaxis.set_label_text('End Year Test Score')\n",
    "ax.xaxis.set_tick_params(which = 'both', top = False, bottom = True, labelbottom = True)  # Turn top x axis tick marks off \n",
    "\n",
    "ax.yaxis.set_label_text('Frequency of Scores')\n",
    "ax.yaxis.set_tick_params(which = 'both', right = False, left = True, labelleft = True)   # Turn right y axis tick marks off\n",
    "\n",
    "#ax.set_xticks(range(minx,maxx+1))\n",
    "#ax.set_xticklabels(range(minx,maxx+1))\n",
    "\n",
    "ax.spines['right'].set_visible(False)\n",
    "ax.spines['top'].set_visible(False)\n",
    "ax.grid(False)\n",
    "plt.show()"
   ]
  },
  {
   "cell_type": "markdown",
   "metadata": {},
   "source": [
    "Block of code from the cell above that creates a dictionary with the frequency histogram data."
   ]
  },
  {
   "cell_type": "code",
   "execution_count": null,
   "metadata": {},
   "outputs": [],
   "source": [
    "scores = df_test1.loc[df_test1['InstructorName'] == 'Smith']['EndYearTestScore']\n",
    "scores = dict(scores.value_counts())\n",
    "scores = {k:scores.get(k,0) for k in range(minx, maxx+1)} # inserts data with zero frequency for missing scores\n",
    "scores"
   ]
  },
  {
   "cell_type": "markdown",
   "metadata": {},
   "source": [
    "Here's one way to show a comparison of Smith's and Green's student scores at the end of the year.  Do you like the graph?  Is it easy to read?  Do you have any suggestions for improvement?"
   ]
  },
  {
   "cell_type": "code",
   "execution_count": null,
   "metadata": {},
   "outputs": [],
   "source": [
    "fig, ax = plt.subplots()\n",
    "\n",
    "ax.hist(x = df_test1.loc[df_test1['InstructorName'] == 'Smith']['EndYearTestScore'], bins = 20, facecolor='r')\n",
    "ax.hist(x = df_test1.loc[df_test1['InstructorName'] == 'Green']['EndYearTestScore'], bins = 20, facecolor='g')\n",
    "\n",
    "fig.suptitle('End of Year test Score Frequency Histogram')\n",
    "fig.set_size_inches(7,5)\n",
    "\n",
    "ax.xaxis.set_label_text('End Year Test Score')\n",
    "ax.xaxis.set_tick_params(which = 'both', top = False, bottom = True, labelbottom = True)  # Turn top x axis tick marks off \n",
    "\n",
    "ax.yaxis.set_label_text('Frequency of Scores')\n",
    "ax.yaxis.set_tick_params(which = 'both', right = False, left = True, labelleft = True)   # Turn right y axis tick marks off\n",
    "\n",
    "ax.set_xlim(64, 85)\n",
    "ax.set_ylim(0, 8)\n",
    "ax.spines['right'].set_visible(False)\n",
    "ax.spines['top'].set_visible(False)"
   ]
  },
  {
   "cell_type": "markdown",
   "metadata": {},
   "source": [
    "Well, that graph is poor and, actually, unacceptable.  You cannot see how high the bars/columns are for one of the series at many points on the x-axis.  Possibly, this graph might be improved if we made the columns partially opaque."
   ]
  },
  {
   "cell_type": "code",
   "execution_count": null,
   "metadata": {},
   "outputs": [],
   "source": [
    "fig, ax = plt.subplots()\n",
    "\n",
    "ax.hist(x = df_test1.loc[df_test1['InstructorName'] == 'Smith']['EndYearTestScore'], bins = 20, facecolor='r', alpha=0.5)\n",
    "ax.hist(x = df_test1.loc[df_test1['InstructorName'] == 'Green']['EndYearTestScore'], bins = 20, facecolor='g', alpha=0.5)\n",
    "\n",
    "fig.suptitle('End of Year test Score Frequency Histogram')\n",
    "fig.set_size_inches(7,5)\n",
    "\n",
    "ax.xaxis.set_label_text('End Year Test Score')\n",
    "ax.xaxis.set_tick_params(which = 'both', top = False, bottom = True, labelbottom = True)  # Turn top x axis tick marks off \n",
    "\n",
    "ax.yaxis.set_label_text('Frequency of Scores')\n",
    "ax.yaxis.set_tick_params(which = 'both', right = False, left = True, labelleft = True)   # Turn right y axis tick marks off\n",
    "\n",
    "ax.set_xlim(64, 85)\n",
    "ax.set_ylim(0, 8)\n",
    "ax.spines['right'].set_visible(False)\n",
    "ax.spines['top'].set_visible(False)"
   ]
  },
  {
   "cell_type": "markdown",
   "metadata": {},
   "source": [
    "That approach was unsatisfactory also.  Perhaps it would help to plot the bars/columns side by side?"
   ]
  },
  {
   "cell_type": "code",
   "execution_count": null,
   "metadata": {},
   "outputs": [],
   "source": [
    "fig, ax = plt.subplots()\n",
    "\n",
    "n, bins, patches = ax.hist((df_test1.loc[df_test1['InstructorName'] == 'Smith']['EndYearTestScore'], \\\n",
    "         df_test1.loc[df_test1['InstructorName'] == 'Green']['EndYearTestScore']), bins = 20, stacked = False)\n",
    "for i in range(len(patches)):\n",
    "    if i%2 == 0:\n",
    "        plt.setp(patches[i],'facecolor','r')\n",
    "    else:\n",
    "        plt.setp(patches[i],'facecolor','g')\n",
    "\n",
    "fig.suptitle('End of Year test score Frequency Histogram')\n",
    "fig.set_size_inches(7,5)\n",
    "\n",
    "ax.xaxis.set_label_text('End Year Test Score')\n",
    "ax.xaxis.set_tick_params(which = 'both', top = False, bottom = True, labelbottom = True)  # Turn top x axis tick marks off \n",
    "\n",
    "ax.yaxis.set_label_text('Frequency of Scores')\n",
    "ax.yaxis.set_tick_params(which = 'both', right = False, left = True, labelleft = True)   # Turn right y axis tick marks off\n",
    "\n",
    "ax.set_xlim(64, 85)\n",
    "ax.set_ylim(0, 8)\n",
    "ax.spines['right'].set_visible(False)\n",
    "ax.spines['top'].set_visible(False)\n",
    "ax.legend(['Smith','Green'], loc=2)"
   ]
  },
  {
   "cell_type": "markdown",
   "metadata": {},
   "source": [
    "That approach was unsatisfactory as well.  At least we demonstrated some of the  techniques available with <font face='courier'>matplotlib</font>.  We will show a much superior method later on."
   ]
  },
  {
   "cell_type": "markdown",
   "metadata": {},
   "source": [
    "## Boxplot\n",
    "\n",
    "Boxplots are an alternative way to describe distributions.\n",
    "\n",
    "Here is a boxplot of Smith's end of year student test scores."
   ]
  },
  {
   "cell_type": "code",
   "execution_count": null,
   "metadata": {},
   "outputs": [],
   "source": [
    "import matplotlib.pyplot as plt\n",
    "import pandas as pd\n",
    "import numpy as np"
   ]
  },
  {
   "cell_type": "code",
   "execution_count": null,
   "metadata": {},
   "outputs": [],
   "source": [
    "instr = 'Smith'\n",
    "data = df_test1.loc[df_test1['InstructorName'] == instr]['EndYearTestScore']\n",
    "\n",
    "fig, ax = plt.subplots()\n",
    "ax.boxplot(data)\n",
    "ax.yaxis.axes.set_ylim(data.min()-1,data.max()+1)\n",
    "ax.set_xticklabels([instr])\n",
    "\n",
    "# Reducing clutter\n",
    "ax.xaxis.set_tick_params(which = 'both', top = False, bottom = True, labelbottom = True)  # Turn top x axis tick marks off \n",
    "ax.yaxis.set_tick_params(which = 'both', right = False, left = True, labelleft = True)   # Turn right y axis tick marks off\n",
    "ax.spines['right'].set_visible(False)\n",
    "ax.spines['top'].set_visible(False)"
   ]
  },
  {
   "cell_type": "markdown",
   "metadata": {},
   "source": [
    "Code for comparing Smith and Green"
   ]
  },
  {
   "cell_type": "code",
   "execution_count": null,
   "metadata": {},
   "outputs": [],
   "source": [
    "# Get data\n",
    "data = []       # create an empty Python list; sublists will be appended for each boxplot\n",
    "data.append(df_test1.loc[df_test1['InstructorName'] == 'Smith']['EndYearTestScore'])\n",
    "data.append(df_test1.loc[df_test1['InstructorName'] == 'Green']['EndYearTestScore'])\n",
    "data_min = min([min(sublist) for sublist in data])  # this and the following 3 lines automatically size the graph to the data \n",
    "data_max = max([max(sublist) for sublist in data])  # while providing buffer space\n",
    "\n",
    "fig, ax = plt.subplots()\n",
    "\n",
    "fig.set_figheight(5)\n",
    "fig.set_figwidth(7)\n",
    "ax.boxplot(data)\n",
    "\n",
    "ax.yaxis.axes.set_ylim(data_min - 2, data_max + 2)\n",
    "ax.set_xticklabels(['Smith','Green'])\n",
    "ax.set_ylabel('Test Score')\n",
    "ax.set_xlabel('Instructor')\n",
    "\n",
    "# Reduce clutter\n",
    "ax.xaxis.set_tick_params(which = 'both', top = False, bottom = True, labelbottom = True)  # Turn top x axis tick marks off \n",
    "ax.yaxis.set_tick_params(which = 'both', right = False, left = True, labelleft = True)   # Turn right y axis tick marks off\n",
    "ax.spines['right'].set_visible(False)\n",
    "ax.spines['top'].set_visible(False)"
   ]
  },
  {
   "cell_type": "markdown",
   "metadata": {},
   "source": [
    "Code for comparing Smith, Jones, and Green with a more flexible approach for selecting instructors to compare."
   ]
  },
  {
   "cell_type": "code",
   "execution_count": null,
   "metadata": {},
   "outputs": [],
   "source": [
    "# Get data\n",
    "instructors = ['Smith','Green','Jones']\n",
    "data = []       # create an empty Python list; sublists will be appended for each boxplot\n",
    "for instructor in instructors:\n",
    "    data.append(df_test1.loc[df_test1['InstructorName'] == instructor]['EndYearTestScore'])\n",
    "data_min = min([min(sublist) for sublist in data])  # this and the following 3 lines automatically size the graph to the data \n",
    "data_max = max([max(sublist) for sublist in data])  # while providing buffer space\n",
    "\n",
    "fig, ax = plt.subplots()\n",
    "ax.boxplot(data)\n",
    "\n",
    "\"\"\" Alternate method for adjusting the figure size \"\"\"\n",
    "fig.set_figheight(5)\n",
    "fig.set_figwidth(7)\n",
    "\n",
    "''' Adjust other details '''\n",
    "ax.set_ylim(data_min - 2, data_max + 2)\n",
    "ax.set_xticks(range(1,len(instructors)+1))\n",
    "ax.set_xticklabels(instructors)\n",
    "ax.set_ylabel('Test Score')\n",
    "ax.set_xlabel('Instructor')\n",
    "\n",
    "\n",
    "# Reduce clutter\n",
    "ax.xaxis.set_tick_params(which = 'both', top = False, bottom = True, labelbottom = True)  # Turn top x axis tick marks off \n",
    "ax.yaxis.set_tick_params(which = 'both', right = False, left = True, labelleft = True)   # Turn right y axis tick marks off\n",
    "ax.spines['right'].set_visible(False)\n",
    "ax.spines['top'].set_visible(False)"
   ]
  },
  {
   "cell_type": "markdown",
   "metadata": {},
   "source": [
    "## Comparative Vertical Frequency Histograms\n",
    "\n",
    "If you do wish to compare frequency histogams, the best way is to aligned them vertically and use the same x-axis scale, using the <font face='courier'>sharex</font> parameter within the <font face='courier'>plt.subplots()</font> statement."
   ]
  },
  {
   "cell_type": "code",
   "execution_count": null,
   "metadata": {},
   "outputs": [],
   "source": [
    "''' Create figure structure '''\n",
    "fig, ax = plt.subplots(2,1, sharex = True)  # 2 rows, 1 column, share x-axis scale (sharex)\n",
    "print(f'The shape of the zxes is {ax.shape}')\n",
    "\n",
    "instrs = ['Smith', 'Green']\n",
    "for i in range(len(instrs)):\n",
    "    ax[i].hist(x = df_test1.loc[df_test1['InstructorName'] == instrs[i]]['EndYearTestScore'], bins = 20, facecolor='k', rwidth = .7)\n",
    "\n",
    "fig.suptitle('End of Year test Score Frequency Histogram')\n",
    "fig.set_size_inches(7,12)\n",
    "\n",
    "for i in range(2):\n",
    "    ax[i].xaxis.set_label_text('End Year Test Score')\n",
    "    ax[i].xaxis.set_tick_params(which = 'both', top = False, bottom = True, labelbottom = True)  # Turn top x axis tick marks off \n",
    "    ax[i].set_title(instrs[i])\n",
    "\n",
    "    ax[i].yaxis.set_label_text('Frequency of Scores')\n",
    "    ax[i].yaxis.set_tick_params(which = 'both', right = False, left = True, labelleft = True)   # Turn right y axis tick marks off\n",
    "\n",
    "    ax[i].set_xlim(66, 85)\n",
    "    ax[i].set_ylim(0, 8)\n",
    "    ax[i].spines['right'].set_visible(False)\n",
    "    ax[i].spines['top'].set_visible(False)\n",
    "    \n",
    "plt.show()"
   ]
  },
  {
   "cell_type": "code",
   "execution_count": null,
   "metadata": {},
   "outputs": [],
   "source": [
    "instrs = ['Smith', 'Green']\n",
    "\n",
    "''' Compute minimum and maximum values of the scores for the plotted data and x-axis tickmarks'''\n",
    "minx = min([df_test1.loc[df_test1['InstructorName'] == instr]['EndYearTestScore'].min() for instr in instrs])\n",
    "maxx = max([df_test1.loc[df_test1['InstructorName'] == instr]['EndYearTestScore'].max() for instr in instrs])\n",
    "\n",
    "''' Compute frequency histogram data for all instructors '''\n",
    "''' The resulting data type is a dictionary of lists '''\n",
    "y_data = {}\n",
    "for instr in instrs:\n",
    "    y_data[instr] = df_test1.loc[df_test1['InstructorName'] == instr]['EndYearTestScore'].value_counts()\n",
    "    y_data[instr] = {k:y_data[instr].get(k,0) for k in range(minx, maxx+1)}\n",
    "    y_data[instr] = [y_data[instr][i] for i in range(minx,maxx+1)]\n",
    "    \n",
    "# Create x-axis labels \n",
    "x = [i for i in range(minx,maxx+1)]\n",
    "\n",
    "''' Compute maximum frequency over all instructors '''\n",
    "maxy = max([max([y_data[instr][i] for i in range(len(y_data[instr]))]) for instr in instrs])\n",
    "\n",
    "''' Create figure structure '''\n",
    "fig, ax = plt.subplots(2,1, sharex = True)  # 2 rows, 1 column, share x-axis scale (sharex)\n",
    "\n",
    "for i in range(len(instrs)):\n",
    "    ax[i].bar(x=x,height=y_data[instr], facecolor='k') # , rwidth = .7\n",
    "\n",
    "fig.suptitle('End of Year test Score Frequency Histogram')\n",
    "fig.set_size_inches(7,12)\n",
    "\n",
    "for i in range(len(instrs)):\n",
    "    ax[i].xaxis.set_label_text('End Year Test Score')\n",
    "    ax[i].xaxis.set_tick_params(which = 'both', top = False, bottom = True, labelbottom = True)  # Turn top x axis tick marks off \n",
    "    ax[i].set_title(instrs[i])\n",
    "\n",
    "    ax[i].yaxis.set_label_text('Frequency of Scores')\n",
    "    ax[i].yaxis.set_tick_params(which = 'both', right = False, left = True, labelleft = True)   # Turn right y axis tick marks off\n",
    "\n",
    "    ax[i].set_xlim(minx-1, maxx+1)\n",
    "    ax[i].set_ylim(0, maxy+1)\n",
    "    ax[i].spines['right'].set_visible(False)\n",
    "    ax[i].spines['top'].set_visible(False)\n",
    "    \n",
    "    #ax[i].set_xticks([z for z in x if z%2==0], [z for z in x if z%2==0]) # (tickmark_locations, tickmark_labels)\n",
    "    \n",
    "plt.show()"
   ]
  },
  {
   "cell_type": "markdown",
   "metadata": {},
   "source": [
    "Let's improve the x-axis tickmarks and labels.  Un-comment statement in code above."
   ]
  },
  {
   "cell_type": "markdown",
   "metadata": {},
   "source": [
    "Simplify the code above... a little"
   ]
  },
  {
   "cell_type": "code",
   "execution_count": null,
   "metadata": {},
   "outputs": [],
   "source": [
    "instrs = ['Smith', 'Green']\n",
    "instr_scores = lambda instr: df_test1.loc[df_test1['InstructorName'] == instr]['EndYearTestScore']\n",
    "\n",
    "''' Compute minimum and maximum values of the scores for the plotted data and x-axis tickmarks'''\n",
    "minx = min([instr_scores(instr).min() for instr in instrs])\n",
    "maxx = max([instr_scores(instr).max() for instr in instrs])\n",
    "\n",
    "''' Compute frequency histogram data for all instructors '''\n",
    "''' The resulting data type is a dictionary of lists '''\n",
    "y_data = {}\n",
    "for instr in instrs:\n",
    "    y_data[instr] = instr_scores(instr).value_counts()\n",
    "    y_data[instr] = {k:y_data[instr].get(k,0) for k in range(minx, maxx+1)}\n",
    "    y_data[instr] = [y_data[instr][i] for i in range(minx,maxx+1)]\n",
    "    \n",
    "# Create x-axis labels \n",
    "x = [i for i in range(minx,maxx+1)]\n",
    "\n",
    "''' Compute maximum frequency over all instructors '''\n",
    "maxy = max([max([y_data[instr][i] for i in range(len(y_data[instr]))]) for instr in instrs])\n",
    "\n",
    "''' Create figure structure '''\n",
    "fig, ax = plt.subplots(2,1, sharex = True)  # 2 rows, 1 column, share x-axis scale (sharex)\n",
    "\n",
    "for i in range(len(instrs)):\n",
    "    ax[i].bar(x=x,height=y_data[instr], facecolor='k') # , rwidth = .7\n",
    "\n",
    "fig.suptitle('End of Year test Score Frequency Histogram')\n",
    "fig.set_size_inches(7,12)\n",
    "\n",
    "for i in range(len(instrs)):\n",
    "    ax[i].xaxis.set_label_text('End Year Test Score')\n",
    "    ax[i].xaxis.set_tick_params(which = 'both', top = False, bottom = True, labelbottom = True)  # Turn top x axis tick marks off \n",
    "    ax[i].set_title(instrs[i])\n",
    "\n",
    "    ax[i].yaxis.set_label_text('Frequency of Scores')\n",
    "    ax[i].yaxis.set_tick_params(which = 'both', right = False, left = True, labelleft = True)   # Turn right y axis tick marks off\n",
    "\n",
    "    ax[i].set_xlim(minx-1, maxx+1)\n",
    "    ax[i].set_ylim(0, maxy+1)\n",
    "    ax[i].spines['right'].set_visible(False)\n",
    "    ax[i].spines['top'].set_visible(False)\n",
    "    \n",
    "    ax[i].set_xticks([z for z in x if z%2==0], [z for z in x if z%2==0]) # (tickmark_locations, tickmark_labels)\n",
    "    \n",
    "plt.show()"
   ]
  },
  {
   "cell_type": "markdown",
   "metadata": {},
   "source": [
    "# Time Series Data: Construction Spending\n",
    "This is the data that you will use for your Storytelling & Visualization assignment due at the end of the course."
   ]
  },
  {
   "cell_type": "code",
   "execution_count": null,
   "metadata": {},
   "outputs": [],
   "source": [
    "df_con = pd.read_csv('ConstructionTimeSeriesDataV2.csv')\n",
    "df_con.head()"
   ]
  },
  {
   "cell_type": "code",
   "execution_count": null,
   "metadata": {
    "scrolled": true
   },
   "outputs": [],
   "source": [
    "df_con['Total Construction']"
   ]
  },
  {
   "cell_type": "code",
   "execution_count": null,
   "metadata": {},
   "outputs": [],
   "source": [
    "x = df_con.index\n",
    "y = df_con['Total Construction']\n",
    "fig, ax = plt.subplots()\n",
    "fig.set_size_inches(6,4)               # figure must be resized prior to .plot() statement\n",
    "ax.plot(x,y,label='Total Construction')   \n",
    "ax.set_xlabel('Month',fontsize=14)                      # Title for the horizontal axis\n",
    "ax.set_ylabel('Construction Spending',fontsize=14)      # Title for the vertical axis\n",
    "ax.spines['right'].set_visible(False)\n",
    "ax.spines['top'].set_visible(False)\n",
    "#ax.spines['left'].set_edgecolor('b')\n",
    "#ax.spines['bottom'].set_position(('outward', 10))\n",
    "plt.axis([0,max(df_con['Month'])+1,0,max(df_con['Total Construction'])*1.05])    # Set ranges of axes\n",
    "#ax.hlines(80000,min(x),max(x))\n",
    "#ax.vlines(60,0,max(df_con['Total Construction'])*1.05)\n",
    "#ax.axvspan(20,40, alpha=0.5, color='gray')\n",
    "plt.xticks(fontsize = 12)\n",
    "plt.grid(False)\n",
    "plt.show()"
   ]
  },
  {
   "cell_type": "code",
   "execution_count": null,
   "metadata": {},
   "outputs": [],
   "source": [
    "x = df_con.Month\n",
    "y = df_con['Total Construction']\n",
    "y1 = df_con['Private Construction']\n",
    "plt.plot(x,y,label='Total Construction') # The label parameter is a label for the y axis data that will be used in the legend   \n",
    "plt.plot(x,y1,label='Private Construction')\n",
    "plt.xlabel('Month')                      # Title for the horizontal axis\n",
    "plt.ylabel('Construction Spending')      # Title for the vertical axis\n",
    "plt.axis([x.min(),x.max(),0,1.1*y.max()])\n",
    "plt.legend()\n",
    "plt.savefig('sample.jpg')"
   ]
  },
  {
   "cell_type": "code",
   "execution_count": null,
   "metadata": {},
   "outputs": [],
   "source": [
    "# Extract data for graphing\n",
    "x = df_con.Month[0:12]\n",
    "y1 = df_con['Total Construction'][0:12]\n",
    "y2 = df_con['Private Construction'][0:12]\n",
    "\n",
    "# My variables\n",
    "x_labels = ['','J','F','M','A','M','J','J','A','S','O','N','D']\n",
    "\n",
    "# Create graph and assign Figure and Axes objects to variables fig and ax\n",
    "fig, ax = plt.subplots()\n",
    "\n",
    "# Plot the data and set other Axes attributes\n",
    "ax.plot(x,y1,label='Total Construction')                                  # Add y1 data to graph and create label for the legend\n",
    "ax.plot(x,y2,label='Private Construction')                                # Add y2 data to graph and create label for the legend\n",
    "ax.spines['right'].set_visible(False)                                                 # Remove right spine\n",
    "ax.spines['top'].set_visible(False)    # Remove top spine\n",
    "ax.legend(loc = 'lower center', prop = {'family':'Times New Roman', 'size':'large'})   # Add legend and format it\n",
    "ax.set_xlim(0,x.max()+1)                                                              # Set min and max for y axis\n",
    "ax.set_ylim(0,1.1*y1.max())                                                           # Set min and max for y axis\n",
    "\n",
    "# Set x-axis attributes\n",
    "ax.xaxis.set_label_text('Month',fontsize = 18, fontname = 'Times New Roman')\n",
    "ax.xaxis.set_ticks(range(0,13))\n",
    "ax.xaxis.set_ticklabels(x_labels)\n",
    "ax.xaxis.set_tick_params(which = 'both', top = False, bottom = True, labelbottom = True)  # Turn tick marks off for top x axis\n",
    "\n",
    "# Set y-axis attributes: the parameter 'both' refers to both major and minor tick marks\n",
    "ax.yaxis.set_label_text('Construction Spending',fontsize = 18, fontname = 'Times New Roman')      # Title for the vertical axis\n",
    "ax.yaxis.set_tick_params(which = 'both', right = False, left = True, labelleft = True)   # Turn tick marks off for right y axis\n",
    "\n",
    "# Set Figure attributes\n",
    "fig.set_size_inches(7,5)             # Set size of figure\n",
    "fig.suptitle('Private vs. Total Construction',fontsize='xx-large', fontname = 'Times New Roman')\n",
    "fig.tight_layout()                   # Helps with formatting and fitting everything into the figure\n",
    "plt.savefig('sample3.jpg')           # Save jpg of figure"
   ]
  },
  {
   "cell_type": "code",
   "execution_count": null,
   "metadata": {},
   "outputs": [],
   "source": [
    "# Extract data for graphing\n",
    "x = df_con.Month[0:12]\n",
    "y1 = df_con['Total Construction'][0:12]\n",
    "y2 = df_con['Private Construction'][0:12]\n",
    "\n",
    "# My variables\n",
    "x_labels = ['','J','F','M','A','M','J','J','A','S','O','N','D']\n",
    "\n",
    "# Create graph and assign Figure and Axes objects to variables fig and Axes variables ax1 and ax2\n",
    "fig, (ax1, ax2) = plt.subplots(1,2,sharey=True)  # Create 2 Axes (subplots) and assign to ax1 and ax2 respectively\n",
    "\n",
    "# Plot the data and set other Axes attributes\n",
    "ax1.plot(x,y1,label='Total Construction')                                  # Add y1 data to graph and create label for the legend\n",
    "ax2.plot(x,y2,label='Private Construction')                                # Add y2 data to graph and create label for the legend\n",
    "\n",
    "# Set common axes attributes\n",
    "for ax in fig.axes:\n",
    "    ax.spines['right'].set_visible(False)                                                 # Remove right spine\n",
    "    ax.spines['top'].set_visible(False)                                                   # Remove top spine\n",
    "    ax.legend(loc = 'upper right', prop = {'family':'Times New Roman', 'size':'large'})   # Add legend and format it\n",
    "    ax.set_xlim(0,x.max()+1)                                                              # Set min and max for y axis\n",
    "    ax.set_ylim(0,1.1*y1.max())                                                           # Set min and max for y axis\n",
    "\n",
    "# Set x-axis attributes\n",
    "for ax in fig.axes:\n",
    "    ax.xaxis.set_label_text('Month',fontsize = 18)\n",
    "    ax.xaxis.set_ticks(range(0,13))\n",
    "    ax.xaxis.set_ticklabels(x_labels)\n",
    "    ax.xaxis.set_tick_params(which = 'both', top = False, bottom = True, labelbottom = True)  # Turn top x axis tick marks off \n",
    "\n",
    "# Set y-axis attributes: the parameter 'both' refers to both major and minor tick marks\n",
    "for ax in fig.axes:\n",
    "    ax.yaxis.set_label_text('Construction Spending',fontsize = 18, fontname = 'Times New Roman')    # Title for the vertical axis\n",
    "    ax.yaxis.set_tick_params(which = 'both', right = False, left = True, labelleft = True)   # Turn right y axis tick marks off \n",
    "\n",
    "# Set Figure attributes\n",
    "fig.set_size_inches(12,5)           # Set size of figure\n",
    "fig.tight_layout()                   # Helps with formatting and fitting everything into the figure\n",
    "plt.savefig('sample3.jpg')\n",
    "plt.show()"
   ]
  },
  {
   "cell_type": "code",
   "execution_count": null,
   "metadata": {},
   "outputs": [],
   "source": [
    "x = df_con.index\n",
    "y = df_con['Total Construction']\n",
    "plt.figure(figsize=(24,4))               # figure must be resized prior to .plot() statement\n",
    "plt.plot(x,y,label='Total Construction')   \n",
    "plt.xlabel('Month',fontsize=14)                      # Title for the horizontal axis\n",
    "plt.ylabel('Construction Spending',fontsize=14)      # Title for the vertical axis\n",
    "plt.axis([0,max(df_con['Month'])+1,0,max(df_con['Total Construction'])*1.05])    # Set ranges of axes\n",
    "plt.xticks(fontsize = 14)\n",
    "plt.show()"
   ]
  },
  {
   "cell_type": "code",
   "execution_count": null,
   "metadata": {},
   "outputs": [],
   "source": [
    "x = df_con.index\n",
    "y = df_con['Total Construction']\n",
    "plt.figure(figsize=(6.5,4))               # figure must be resized prior to .plot() statement\n",
    "plt.plot(x,y,label='Total Construction')   \n",
    "plt.xlabel('Month',fontsize=14)                      # Title for the horizontal axis\n",
    "plt.ylabel('Construction Spending',fontsize=14)      # Title for the vertical axis\n",
    "plt.axis([0,max(df_con['Month'])+1,0,max(df_con['Total Construction'])*1.05])    # Set ranges of axes\n",
    "plt.xticks(fontsize = 14)\n",
    "plt.show()"
   ]
  },
  {
   "cell_type": "markdown",
   "metadata": {},
   "source": [
    "# Pareto Diagrams\n",
    "\n",
    "Pareto Diagrams are special types of sorted histograms that clearly show which occurences in a data set are most frequent.\n",
    "\n",
    "For examples, for the components of the U.S. budget."
   ]
  },
  {
   "cell_type": "code",
   "execution_count": null,
   "metadata": {},
   "outputs": [],
   "source": [
    "import matplotlib.pyplot as plt\n",
    "\n",
    "# Data\n",
    "bdata = [1.28,1.05,0.6093,0.22195,0.16063,0.1357,0.10226,0.08499,0.06148,0.05022,0.04485,0.02981]\n",
    "blabels = ['Unemp','Health','Mil.','Interest', 'Veterans','Agri.','Edu','Trans','Housing','Intl','EnergyEnv','Science']\n",
    "xs = range(len(bdata))\n",
    "bdata_cum = []\n",
    "for i in range(len(bdata)):\n",
    "    bdata_cum.append(sum(bdata[0:i+1])/sum(bdata))\n",
    "\n",
    "fig, ax = plt.subplots()\n",
    "fig.suptitle('United States Budget Analysis', fontsize = 16)\n",
    "\n",
    "# Set bar chart parameters\n",
    "ax.bar(xs,bdata, align='center')\n",
    "ax.set_ylim(0,sum(bdata))\n",
    "ax.set_xticks(xs)\n",
    "ax.set_xticklabels(blabels, rotation = 45)\n",
    "ax.spines['top'].set_visible(False)\n",
    "ax.grid(False)\n",
    "\n",
    "ax.tick_params(axis = 'y', which = 'both', direction = 'in', width = 2, color = 'black')\n",
    "\n",
    "# Set line chart paramters and assign the second y axis\n",
    "ax1 = ax.twinx()\n",
    "ax1.plot(xs,bdata_cum,color='k')\n",
    "ax1.set_ylim(0,1)\n",
    "ax1.set_yticks([0,.2 ,.4, .6, .8, 1])\n",
    "ax1.set_yticklabels(['{:1.1f}%'.format(x*100) for x in ax1.get_yticks()])\n",
    "ax1.spines['top'].set_visible(False)\n",
    "ax1.grid(False)\n",
    "\n",
    "#fig.set_figwidth(9)\n",
    "#fig.set_figheight(5)\n",
    "fig.set_size_inches(9,5)\n",
    "fig.savefig('pareto.jpg', dpi=2000)\n",
    "plt.show()"
   ]
  },
  {
   "cell_type": "markdown",
   "metadata": {
    "collapsed": true
   },
   "source": [
    "In the following code a typical version of a Pareto chart is shown where bars are shown for only the most frequent items."
   ]
  },
  {
   "cell_type": "code",
   "execution_count": null,
   "metadata": {},
   "outputs": [],
   "source": [
    "import matplotlib.pyplot as plt\n",
    "\n",
    "# Data\n",
    "blabels1 = ['SS','Health','Mil.','Interest', 'Vet.','Agri.','Other']\n",
    "bindex = 6\n",
    "bother = sum(bdata[bindex:])\n",
    "bdata1 = bdata[:bindex] + [bother]\n",
    "xs = range(len(bdata1))\n",
    "bdata_cum = []\n",
    "for i in range(len(bdata1)):\n",
    "    bdata_cum.append(sum(bdata1[0:i+1])/sum(bdata1))\n",
    "\n",
    "fig, ax = plt.subplots()\n",
    "fig.set_figwidth(9)\n",
    "fig.set_figheight(5)\n",
    "\n",
    "# Bar chart settings\n",
    "ax.set_xticks(xs)\n",
    "ax.set_xticklabels(blabels1)\n",
    "ax.bar(xs,bdata1, align='center')\n",
    "ax.set_ylim(0,sum(bdata1))\n",
    "ax.spines['top'].set_visible(False)\n",
    "ax.grid(False)\n",
    "\n",
    "# Line chart settings\n",
    "ax1 = ax.twinx()\n",
    "ax1.plot(xs,bdata_cum,color='k')\n",
    "ax1.set_ylim(0,1)\n",
    "ax1.set_yticks([0,.2 ,.4, .6, .8, 1])\n",
    "ax1.set_yticklabels(['{:1.1f}%'.format(x*100) for x in ax1.get_yticks()])\n",
    "ax1.spines['top'].set_visible(False)\n",
    "ax1.grid(False)\n",
    "plt.show()"
   ]
  },
  {
   "cell_type": "markdown",
   "metadata": {},
   "source": [
    "# Old Settings for Graphical Display"
   ]
  },
  {
   "cell_type": "markdown",
   "metadata": {},
   "source": [
    "The two cells below describe a statement that was necessary with former versions of Jupyter in order to cause graphs to be displayed within the Jupyter notebook rather than in a spearate window.  Recent versions of Jupyter do not require execution of this statement.  It is retained here in case it becomes necessary with future versions of Jupyter."
   ]
  },
  {
   "cell_type": "markdown",
   "metadata": {},
   "source": [
    "The statement below causes the matplotlib graphs to appear within the Jupter notebook rather than in a separate window that pops up.  This can be very convenient because, among other reasons, the image will be retained in the notebook and computation will not be paused when many graphs are constructed within a loop.  Statements that start with '%' are called magic functions.  I think it is also fair to say that these are system-level commands that you might type in a DOS Command Window.  The '%' indicates a system command so that it is executed properly.  This web page discusses magic functions: https://stackoverflow.com/questions/20961287/what-is-pylab"
   ]
  },
  {
   "cell_type": "code",
   "execution_count": null,
   "metadata": {},
   "outputs": [],
   "source": [
    "%matplotlib inline"
   ]
  },
  {
   "cell_type": "code",
   "execution_count": null,
   "metadata": {},
   "outputs": [],
   "source": []
  }
 ],
 "metadata": {
  "kernelspec": {
   "display_name": "Python 3 (ipykernel)",
   "language": "python",
   "name": "python3"
  },
  "language_info": {
   "codemirror_mode": {
    "name": "ipython",
    "version": 3
   },
   "file_extension": ".py",
   "mimetype": "text/x-python",
   "name": "python",
   "nbconvert_exporter": "python",
   "pygments_lexer": "ipython3",
   "version": "3.7.13"
  }
 },
 "nbformat": 4,
 "nbformat_minor": 1
}
